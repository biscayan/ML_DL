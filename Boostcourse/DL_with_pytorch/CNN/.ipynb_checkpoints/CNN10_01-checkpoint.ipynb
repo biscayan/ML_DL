{
 "cells": [
  {
   "cell_type": "code",
   "execution_count": 2,
   "metadata": {},
   "outputs": [],
   "source": [
    "import torch\n",
    "import torch.nn as nn"
   ]
  },
  {
   "cell_type": "code",
   "execution_count": 3,
   "metadata": {},
   "outputs": [
    {
     "name": "stdout",
     "output_type": "stream",
     "text": [
      "torch.Size([1, 1, 227, 227])\n",
      "torch.Size([1, 1, 55, 55])\n",
      "\n",
      "torch.Size([1, 1, 64, 64])\n",
      "torch.Size([1, 1, 29, 29])\n",
      "\n",
      "torch.Size([1, 1, 32, 32])\n",
      "torch.Size([1, 1, 32, 32])\n",
      "\n",
      "torch.Size([1, 1, 32, 64])\n",
      "torch.Size([1, 1, 28, 60])\n",
      "\n",
      "torch.Size([1, 1, 64, 32])\n",
      "torch.Size([1, 1, 64, 32])\n"
     ]
    }
   ],
   "source": [
    "#Conv2d(in_channels,out_channels,kernel_size,stride=,padding=)\n",
    "#input=torch.Tensor(batch_size,channel,height,width)\n",
    "\n",
    "#ex1)\n",
    "conv1=nn.Conv2d(1,1,11,stride=4,padding=0)\n",
    "input1=torch.Tensor(1,1,227,227)\n",
    "output1=conv1(input1)\n",
    "\n",
    "print(input1.shape)\n",
    "print(output1.shape)\n",
    "print()\n",
    "\n",
    "#ex2)\n",
    "conv2=nn.Conv2d(1,1,7,stride=2,padding=0)\n",
    "input2=torch.Tensor(1,1,64,64)\n",
    "output2=conv2(input2)\n",
    "\n",
    "print(input2.shape)\n",
    "print(output2.shape)\n",
    "print()\n",
    "\n",
    "#ex3)\n",
    "conv3=nn.Conv2d(1,1,5,stride=1,padding=2)\n",
    "input3=torch.Tensor(1,1,32,32)\n",
    "output3=conv3(input3)\n",
    "\n",
    "print(input3.shape)\n",
    "print(output3.shape)\n",
    "print()\n",
    "\n",
    "#ex4)\n",
    "conv4=nn.Conv2d(1,1,5,stride=1,padding=0)\n",
    "input4=torch.Tensor(1,1,32,64)\n",
    "output4=conv4(input4)\n",
    "\n",
    "print(input4.shape)\n",
    "print(output4.shape)\n",
    "print()\n",
    "\n",
    "#ex5)\n",
    "conv5=nn.Conv2d(1,1,3,stride=1,padding=1)\n",
    "input5=torch.Tensor(1,1,64,32)\n",
    "output5=conv5(input5)\n",
    "\n",
    "print(input5.shape)\n",
    "print(output5.shape)"
   ]
  },
  {
   "cell_type": "code",
   "execution_count": 4,
   "metadata": {},
   "outputs": [
    {
     "name": "stdout",
     "output_type": "stream",
     "text": [
      "torch.Size([1, 5, 24, 24])\n",
      "torch.Size([1, 5, 12, 12])\n"
     ]
    }
   ],
   "source": [
    "#CNN inplementation\n",
    "\n",
    "input_imple=torch.Tensor(1,1,28,28)\n",
    "conv_imple=nn.Conv2d(1,5,5)\n",
    "pool=nn.MaxPool2d(2)\n",
    "output_imple=conv_imple(input_imple)\n",
    "output_implement=pool(output_imple)\n",
    "print(output_imple.size())\n",
    "print(output_implement.size())"
   ]
  }
 ],
 "metadata": {
  "kernelspec": {
   "display_name": "Python 3",
   "language": "python",
   "name": "python3"
  },
  "language_info": {
   "codemirror_mode": {
    "name": "ipython",
    "version": 3
   },
   "file_extension": ".py",
   "mimetype": "text/x-python",
   "name": "python",
   "nbconvert_exporter": "python",
   "pygments_lexer": "ipython3",
   "version": "3.7.6"
  }
 },
 "nbformat": 4,
 "nbformat_minor": 2
}
