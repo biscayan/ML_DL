{
 "cells": [
  {
   "cell_type": "code",
   "execution_count": null,
   "metadata": {
    "colab": {},
    "colab_type": "code",
    "id": "M-xrrj6dnoZZ"
   },
   "outputs": [],
   "source": [
    "import torch\n",
    "import torchvision.datasets as dsets\n",
    "import torchvision.transforms as transforms\n",
    "import random"
   ]
  },
  {
   "cell_type": "code",
   "execution_count": null,
   "metadata": {
    "colab": {},
    "colab_type": "code",
    "id": "C4VPrxWIoXeL"
   },
   "outputs": [],
   "source": [
    "device = 'cuda'\n",
    "random.seed(777)\n",
    "torch.manual_seed(777)\n",
    "if device == 'cuda':\n",
    "    torch.cuda.manual_seed_all(777)"
   ]
  },
  {
   "cell_type": "code",
   "execution_count": null,
   "metadata": {
    "colab": {},
    "colab_type": "code",
    "id": "Vk-WHbulooZf"
   },
   "outputs": [],
   "source": [
    "#datasets\n",
    "mnist_train = dsets.MNIST(root='MNIST_data/',train=True,transform=transforms.ToTensor(),download=True)\n",
    "mnist_test = dsets.MNIST(root='MNIST_data/',train=False,transform=transforms.ToTensor(),download=True)"
   ]
  },
  {
   "cell_type": "code",
   "execution_count": null,
   "metadata": {
    "colab": {},
    "colab_type": "code",
    "id": "O6mQUZNFtLpB"
   },
   "outputs": [],
   "source": [
    "#parameters\n",
    "learning_rate=0.1\n",
    "epochs=15\n",
    "batch_size=100\n",
    "drop_prob=0.5"
   ]
  },
  {
   "cell_type": "code",
   "execution_count": null,
   "metadata": {
    "colab": {},
    "colab_type": "code",
    "id": "1FwjlAN8sBVG"
   },
   "outputs": [],
   "source": [
    "#dataset loader\n",
    "data_loader = torch.utils.data.DataLoader(dataset=mnist_train,batch_size=batch_size,shuffle=True,drop_last=True)"
   ]
  },
  {
   "cell_type": "code",
   "execution_count": null,
   "metadata": {
    "colab": {},
    "colab_type": "code",
    "id": "tv2P1Q5-t3lj"
   },
   "outputs": [],
   "source": [
    "#layers\n",
    "layer1=torch.nn.Linear(784,512,True)\n",
    "layer2=torch.nn.Linear(512,512,True)\n",
    "layer3=torch.nn.Linear(512,512,True)\n",
    "layer4=torch.nn.Linear(512,512,True)\n",
    "layer5=torch.nn.Linear(512,10,True)\n",
    "\n",
    "relu=torch.nn.ReLU()\n",
    "dropout=torch.nn.Dropout(p=drop_prob)\n",
    "\n",
    "#weight initialization\n",
    "torch.nn.init.xavier_uniform_(layer1.weight)\n",
    "torch.nn.init.xavier_uniform_(layer2.weight)\n",
    "torch.nn.init.xavier_uniform_(layer3.weight)\n",
    "torch.nn.init.xavier_uniform_(layer4.weight)\n",
    "torch.nn.init.xavier_uniform_(layer5.weight)\n",
    "\n",
    "#model\n",
    "model=torch.nn.Sequential(layer1,relu,dropout,layer2,relu,dropout,layer3,relu,dropout,layer4,relu,dropout,layer5).to(device)\n"
   ]
  },
  {
   "cell_type": "code",
   "execution_count": null,
   "metadata": {
    "colab": {},
    "colab_type": "code",
    "id": "kKzU-dQO18l4"
   },
   "outputs": [],
   "source": [
    "criterion=torch.nn.CrossEntropyLoss().to(device)\n",
    "optimizer=torch.optim.SGD(model.parameters(),lr=learning_rate)"
   ]
  },
  {
   "cell_type": "code",
   "execution_count": null,
   "metadata": {
    "colab": {
     "base_uri": "https://localhost:8080/",
     "height": 298
    },
    "colab_type": "code",
    "executionInfo": {
     "elapsed": 219426,
     "status": "ok",
     "timestamp": 1578804372141,
     "user": {
      "displayName": "HyeongJu Na",
      "photoUrl": "",
      "userId": "17212888845667284343"
     },
     "user_tz": -540
    },
    "id": "eO5NU6D32UnK",
    "outputId": "cf0dc5ca-d0a8-465c-90db-7aaa873c0fe6"
   },
   "outputs": [],
   "source": [
    "\n",
    "#training\n",
    "total_batch=len(data_loader)\n",
    "model.train()\n",
    "\n",
    "for epoch in range(epochs):\n",
    "  total_cost=0\n",
    "  for X,Y in data_loader:\n",
    "    X=X.view(-1,28*28).to(device)\n",
    "    Y=Y.to(device)\n",
    "\n",
    "    optimizer.zero_grad()\n",
    "    hypothesis=model(X)\n",
    "    cost=criterion(hypothesis,Y)\n",
    "    cost.backward()\n",
    "    optimizer.step()\n",
    "\n",
    "    total_cost+=cost\n",
    "  avg_cost=total_cost/total_batch\n",
    "\n",
    "  print('Epoch: ','%3d' %(epoch+1),'Cost: ','{:.8f}'.format(avg_cost))\n",
    "print('learning finished')"
   ]
  },
  {
   "cell_type": "code",
   "execution_count": null,
   "metadata": {
    "colab": {
     "base_uri": "https://localhost:8080/",
     "height": 1000
    },
    "colab_type": "code",
    "executionInfo": {
     "elapsed": 864,
     "status": "ok",
     "timestamp": 1578805261453,
     "user": {
      "displayName": "HyeongJu Na",
      "photoUrl": "",
      "userId": "17212888845667284343"
     },
     "user_tz": -540
    },
    "id": "jxRFBuScE3bs",
    "outputId": "e92c503e-1900-48a9-a0dd-abfb8d9bd5a9"
   },
   "outputs": [],
   "source": [
    "#test\n",
    "print(len(mnist_test))\n",
    "with torch.no_grad():\n",
    "  model.eval()\n",
    "  X_test=mnist_test.test_data.view(-1,28*28).float().to(device)\n",
    "  Y_test=mnist_test.test_labels.to(device)\n",
    "\n",
    "  prediction=model(X_test)\n",
    "  correct_prediction=torch.argmax(prediction,1)==Y_test\n",
    "  accuracy=correct_prediction.float().mean()\n",
    "  print('Accuracy:', accuracy.item())\n",
    "\n",
    "  r=random.randint(1,len(mnist_test)-1)\n",
    "  X_single_data = mnist_test.test_data[r:r + 1].view(-1, 28 * 28).float().to(device)\n",
    "  Y_single_data = mnist_test.test_labels[r:r + 1].to(device)\n",
    "\n",
    "  print('Label: ', Y_single_data.item())\n",
    "  single_prediction = model(X_single_data)\n",
    "  print('Prediction: ', torch.argmax(single_prediction, 1).item())\n",
    "print(X_single_data)\n",
    "print(Y_single_data)"
   ]
  },
  {
   "cell_type": "code",
   "execution_count": null,
   "metadata": {
    "colab": {},
    "colab_type": "code",
    "id": "HJ_1FonuAkGG"
   },
   "outputs": [],
   "source": []
  }
 ],
 "metadata": {
  "colab": {
   "authorship_tag": "ABX9TyMBlwjWUrjCAdFH6Y6DLYFl",
   "collapsed_sections": [],
   "name": "dnn09_03.ipynb",
   "provenance": []
  },
  "kernelspec": {
   "display_name": "Python 3",
   "language": "python",
   "name": "python3"
  },
  "language_info": {
   "codemirror_mode": {
    "name": "ipython",
    "version": 3
   },
   "file_extension": ".py",
   "mimetype": "text/x-python",
   "name": "python",
   "nbconvert_exporter": "python",
   "pygments_lexer": "ipython3",
   "version": "3.7.4"
  }
 },
 "nbformat": 4,
 "nbformat_minor": 1
}
