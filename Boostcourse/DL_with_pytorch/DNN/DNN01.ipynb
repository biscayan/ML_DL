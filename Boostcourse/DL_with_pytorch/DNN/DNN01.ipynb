{
 "cells": [
  {
   "cell_type": "code",
   "execution_count": 24,
   "metadata": {},
   "outputs": [
    {
     "name": "stdout",
     "output_type": "stream",
     "text": [
      "Epoch:    0 | Cost: 0.893372\n",
      "Epoch:  100 | Cost: 0.693781\n",
      "Epoch:  200 | Cost: 0.693352\n",
      "Epoch:  300 | Cost: 0.693227\n",
      "Epoch:  400 | Cost: 0.693179\n",
      "Epoch:  500 | Cost: 0.693161\n",
      "Epoch:  600 | Cost: 0.693153\n",
      "Epoch:  700 | Cost: 0.693150\n",
      "Epoch:  800 | Cost: 0.693148\n",
      "Epoch:  900 | Cost: 0.693148\n",
      "Epoch: 1000 | Cost: 0.693147\n",
      "\n",
      "Hypothesis:  \n",
      " [[0.50054747]\n",
      " [0.50002664]\n",
      " [0.5001452 ]\n",
      " [0.4996244 ]] \n",
      "Correct:  \n",
      " [[1.]\n",
      " [1.]\n",
      " [1.]\n",
      " [0.]] \n",
      "Accuracy: 0.0\n"
     ]
    }
   ],
   "source": [
    "import torch\n",
    "import torch.nn as nn\n",
    "import torch.optim as optim\n",
    "\n",
    "X=torch.FloatTensor([[0,0],\n",
    "                     [0,1],\n",
    "                     [1,0],\n",
    "                     [1,1]])\n",
    "\n",
    "Y=torch.FloatTensor([[0],\n",
    "                     [1],\n",
    "                     [1],\n",
    "                     [0]])\n",
    "\n",
    "linear = nn.Linear(2,1,bias=True)\n",
    "sigmoid=nn.Sigmoid()\n",
    "model=nn.Sequential(linear,sigmoid)\n",
    "\n",
    "cost_function=nn.BCELoss()\n",
    "optimizer=optim.SGD(model.parameters(),lr=0.1)\n",
    "\n",
    "epochs=1000\n",
    "\n",
    "for epoch in range(epochs+1):\n",
    "    hypothesis=model(X)\n",
    "    cost=cost_function(hypothesis,Y)\n",
    "    \n",
    "    optimizer.zero_grad()\n",
    "    cost.backward()\n",
    "    optimizer.step()\n",
    "    \n",
    "    if epoch % 100==0:\n",
    "        print(\"Epoch: {:4d} | Cost: {:4f}\".format(epoch,cost.item()))\n",
    "        \n",
    "with torch.no_grad():\n",
    "    hypothesis=model(X)\n",
    "    prediction=(hypothesis>0.5).float()\n",
    "    accuracy=(hypothesis==Y).float().mean()\n",
    "    print('\\nHypothesis:  \\n', hypothesis.detach().numpy(), '\\nCorrect:  \\n', prediction.detach().numpy(), '\\nAccuracy:', accuracy.item())\n",
    "    \n",
    "#결과는 0,1,1,0순으로 나와야 되는데 XOR은 linear model로 구분할 수 없으므로 절대 정답의 값이 나올 수 없음."
   ]
  },
  {
   "cell_type": "code",
   "execution_count": null,
   "metadata": {},
   "outputs": [],
   "source": []
  }
 ],
 "metadata": {
  "kernelspec": {
   "display_name": "Python 3",
   "language": "python",
   "name": "python3"
  },
  "language_info": {
   "codemirror_mode": {
    "name": "ipython",
    "version": 3
   },
   "file_extension": ".py",
   "mimetype": "text/x-python",
   "name": "python",
   "nbconvert_exporter": "python",
   "pygments_lexer": "ipython3",
   "version": "3.7.4"
  }
 },
 "nbformat": 4,
 "nbformat_minor": 2
}
