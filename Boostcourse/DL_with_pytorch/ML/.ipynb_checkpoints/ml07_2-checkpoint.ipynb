{
 "cells": [
  {
   "cell_type": "code",
   "execution_count": 6,
   "metadata": {},
   "outputs": [
    {
     "name": "stdout",
     "output_type": "stream",
     "text": [
      "Epoch: 0001 cost = 2.42413\n",
      "Epoch: 0002 cost = 1.03393\n",
      "Epoch: 0003 cost = 0.83700\n",
      "Epoch: 0004 cost = 0.73788\n",
      "Epoch: 0005 cost = 0.67517\n",
      "Epoch: 0006 cost = 0.63061\n",
      "Epoch: 0007 cost = 0.59598\n",
      "Epoch: 0008 cost = 0.56822\n",
      "Epoch: 0009 cost = 0.54589\n",
      "Epoch: 0010 cost = 0.52659\n",
      "Epoch: 0011 cost = 0.51040\n",
      "Epoch: 0012 cost = 0.49613\n",
      "Epoch: 0013 cost = 0.48348\n",
      "Epoch: 0014 cost = 0.47174\n",
      "Epoch: 0015 cost = 0.46219\n",
      "Training completed\n",
      "Accuracy: 0.8636000156402588\n",
      "Label:  4\n",
      "Prediction:  4\n"
     ]
    },
    {
     "data": {
      "image/png": "[encoded data removed]",
      "text/plain": [
       "<Figure size 432x288 with 1 Axes>"
      ]
     },
     "metadata": {
      "needs_background": "light"
     },
     "output_type": "display_data"
    }
   ],
   "source": [
    "import torch\n",
    "import torchvision.datasets as dsets\n",
    "import torchvision.transforms as transforms\n",
    "import torch.nn as nn\n",
    "import torch.optim as optim\n",
    "import matplotlib.pyplot as plt\n",
    "import random\n",
    "\n",
    "device='cpu'\n",
    "\n",
    "#data\n",
    "mnist_train = dsets.MNIST(root=\"MNIST_data/\",train=True, transform=transforms.ToTensor(), download=True) #train data\n",
    "mnist_test = dsets.MNIST(root=\"MNIST_data/\",train=False, transform=transforms.ToTensor(), download=True) #test data\n",
    "\n",
    "#parameters\n",
    "training_epochs = 15\n",
    "batch_size = 100\n",
    "\n",
    "data_loader = torch.utils.data.DataLoader(dataset=mnist_train, batch_size=batch_size,shuffle=True, drop_last=True)\n",
    "\n",
    "#traininf setting \n",
    "\n",
    "linear=nn.Linear(784,10,bias=True).to(device)\n",
    "nn.init.normal_(linear.weight)\n",
    "\n",
    "criterion = nn.CrossEntropyLoss().to(device)\n",
    "optimizer=optim.SGD(linear.parameters(),lr=0.1)\n",
    "\n",
    "#training\n",
    "\n",
    "for epoch in range(training_epochs):\n",
    "    avg_cost=0\n",
    "    total_batch=len(data_loader)\n",
    "    for X,Y in data_loader:\n",
    "        X=X.view(-1,28*28).to(device)\n",
    "        \n",
    "        optimizer.zero_grad()\n",
    "        hypothesis = linear(X)\n",
    "        cost = criterion(hypothesis, Y)\n",
    "        cost.backward()\n",
    "        optimizer.step()\n",
    "        \n",
    "        avg_cost +=cost/total_batch\n",
    "        \n",
    "    print('Epoch:', '%04d' % (epoch + 1), 'cost =', '{:.5f}'.format(avg_cost))\n",
    "print(\"Training completed\")\n",
    "    \n",
    "#test\n",
    "with torch.no_grad():\n",
    "    X_test=mnist_test.test_data.view(-1,28*28).float().to(device)\n",
    "    Y_test=mnist_test.test_labels.to(device)\n",
    "    \n",
    "    prediction=linear(X_test)\n",
    "    correct_prediction = torch.argmax(prediction, 1) == Y_test\n",
    "    accuracy = correct_prediction.float().mean()\n",
    "    print('Accuracy:', accuracy.item())\n",
    "    \n",
    "     # Get one and predict\n",
    "    r = random.randint(0, len(mnist_test) - 1)\n",
    "    X_single_data = mnist_test.test_data[r:r + 1].view(-1, 28 * 28).float().to(device)\n",
    "    Y_single_data = mnist_test.test_labels[r:r + 1].to(device)\n",
    "\n",
    "    print('Label: ', Y_single_data.item())\n",
    "    single_prediction = linear(X_single_data)\n",
    "    print('Prediction: ', torch.argmax(single_prediction, 1).item())\n",
    "\n",
    "    plt.imshow(mnist_test.test_data[r:r + 1].view(28, 28), cmap='Greys', interpolation='nearest')\n",
    "    plt.show()\n",
    "    "
   ]
  },
  {
   "cell_type": "code",
   "execution_count": null,
   "metadata": {},
   "outputs": [],
   "source": []
  }
 ],
 "metadata": {
  "kernelspec": {
   "display_name": "Python 3",
   "language": "python",
   "name": "python3"
  },
  "language_info": {
   "codemirror_mode": {
    "name": "ipython",
    "version": 3
   },
   "file_extension": ".py",
   "mimetype": "text/x-python",
   "name": "python",
   "nbconvert_exporter": "python",
   "pygments_lexer": "ipython3",
   "version": "3.7.4"
  }
 },
 "nbformat": 4,
 "nbformat_minor": 2
}
