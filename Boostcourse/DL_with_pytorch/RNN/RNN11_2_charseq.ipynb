{
 "cells": [
  {
   "cell_type": "code",
   "execution_count": 72,
   "metadata": {},
   "outputs": [],
   "source": [
    "import torch\n",
    "import numpy as np"
   ]
  },
  {
   "cell_type": "code",
   "execution_count": 73,
   "metadata": {},
   "outputs": [
    {
     "name": "stdout",
     "output_type": "stream",
     "text": [
      "['I', 'v', 'l', 'e', 'o', ' ', 'u', 'y']\n",
      "{'I': 0, 'v': 1, 'l': 2, 'e': 3, 'o': 4, ' ': 5, 'u': 6, 'y': 7}\n"
     ]
    }
   ],
   "source": [
    "sample=\"I love you\"\n",
    "\n",
    "char_set=list(set(sample))\n",
    "char_dict={c: i for i,c in enumerate(char_set)}\n",
    "\n",
    "print(char_set)\n",
    "print(char_dict)"
   ]
  },
  {
   "cell_type": "code",
   "execution_count": 74,
   "metadata": {},
   "outputs": [],
   "source": [
    "dict_size=len(char_dict)\n",
    "hidden_size=len(char_dict)"
   ]
  },
  {
   "cell_type": "code",
   "execution_count": 75,
   "metadata": {},
   "outputs": [],
   "source": [
    "learning_rate=0.1\n",
    "epochs=500"
   ]
  },
  {
   "cell_type": "code",
   "execution_count": 76,
   "metadata": {},
   "outputs": [],
   "source": [
    "sample_idx=[char_dict[c] for c in sample]\n",
    "x_data=[sample_idx[:-1]]\n",
    "x_one_hot=[np.eye(dict_size)[x] for x in x_data]\n",
    "y_data=[sample_idx[1:]]"
   ]
  },
  {
   "cell_type": "code",
   "execution_count": 77,
   "metadata": {},
   "outputs": [],
   "source": [
    "X=torch.FloatTensor(x_one_hot)\n",
    "Y=torch.LongTensor(y_data)"
   ]
  },
  {
   "cell_type": "code",
   "execution_count": 78,
   "metadata": {},
   "outputs": [],
   "source": [
    "rnn=torch.nn.RNN(dict_size,hidden_size,batch_first=True)"
   ]
  },
  {
   "cell_type": "code",
   "execution_count": 79,
   "metadata": {},
   "outputs": [],
   "source": [
    "criterion=torch.nn.CrossEntropyLoss()\n",
    "optimizer=torch.optim.SGD(rnn.parameters(),learning_rate)"
   ]
  },
  {
   "cell_type": "code",
   "execution_count": 80,
   "metadata": {},
   "outputs": [
    {
     "name": "stdout",
     "output_type": "stream",
     "text": [
      "Epoch:    0 | Loss: 2.1744\n",
      "Epoch:   20 | Loss: 1.7837\n",
      "Epoch:   40 | Loss: 1.5267\n",
      "Epoch:   60 | Loss: 1.3678\n",
      "Epoch:   80 | Loss: 1.2519\n",
      "Epoch:  100 | Loss: 1.1615\n",
      "Epoch:  120 | Loss: 1.0942\n",
      "Epoch:  140 | Loss: 1.0454\n",
      "Epoch:  160 | Loss: 1.0098\n",
      "Epoch:  180 | Loss: 0.9832\n",
      "Epoch:  200 | Loss: 0.9622\n",
      "Epoch:  220 | Loss: 0.9451\n",
      "Epoch:  240 | Loss: 0.9307\n",
      "Epoch:  260 | Loss: 0.9185\n",
      "Epoch:  280 | Loss: 0.9081\n",
      "Epoch:  300 | Loss: 0.8991\n",
      "Epoch:  320 | Loss: 0.8912\n",
      "Epoch:  340 | Loss: 0.8842\n",
      "Epoch:  360 | Loss: 0.8779\n",
      "Epoch:  380 | Loss: 0.8722\n",
      "Epoch:  400 | Loss: 0.8671\n",
      "Epoch:  420 | Loss: 0.8624\n",
      "Epoch:  440 | Loss: 0.8581\n",
      "Epoch:  460 | Loss: 0.8541\n",
      "Epoch:  480 | Loss: 0.8505\n",
      "Epoch:  500 | Loss: 0.8471\n"
     ]
    }
   ],
   "source": [
    "for epoch in range(epochs+1):\n",
    "    optimizer.zero_grad()\n",
    "    outputs,_status=rnn(X)\n",
    "    loss=criterion(outputs.view(-1,dict_size),Y.view(-1))\n",
    "    loss.backward()\n",
    "    optimizer.step()\n",
    "    \n",
    "    if epoch%20 == 0:\n",
    "        print(\"Epoch:\",\"{:4d}\".format(epoch), \"|\",\"Loss:\", \"{:.4f}\".format(loss.item()))"
   ]
  },
  {
   "cell_type": "code",
   "execution_count": null,
   "metadata": {},
   "outputs": [],
   "source": []
  }
 ],
 "metadata": {
  "kernelspec": {
   "display_name": "Python 3",
   "language": "python",
   "name": "python3"
  },
  "language_info": {
   "codemirror_mode": {
    "name": "ipython",
    "version": 3
   },
   "file_extension": ".py",
   "mimetype": "text/x-python",
   "name": "python",
   "nbconvert_exporter": "python",
   "pygments_lexer": "ipython3",
   "version": "3.7.6"
  }
 },
 "nbformat": 4,
 "nbformat_minor": 2
}
