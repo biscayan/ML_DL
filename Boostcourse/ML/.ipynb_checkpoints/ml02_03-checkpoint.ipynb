{
 "cells": [
  {
   "cell_type": "code",
   "execution_count": 3,
   "metadata": {},
   "outputs": [
    {
     "name": "stdout",
     "output_type": "stream",
     "text": [
      "Epoch:    0 W: 0.000, Cost: 4.666667\n",
      "Epoch:   50 W: 1.000, Cost: 0.000000\n",
      "Epoch:  100 W: 1.000, Cost: 0.000000\n",
      "Epoch:  150 W: 1.000, Cost: 0.000000\n",
      "Epoch:  200 W: 1.000, Cost: 0.000000\n",
      "Epoch:  250 W: 1.000, Cost: 0.000000\n",
      "Epoch:  300 W: 1.000, Cost: 0.000000\n",
      "Epoch:  350 W: 1.000, Cost: 0.000000\n",
      "Epoch:  400 W: 1.000, Cost: 0.000000\n",
      "Epoch:  450 W: 1.000, Cost: 0.000000\n",
      "Epoch:  500 W: 1.000, Cost: 0.000000\n",
      "Epoch:  550 W: 1.000, Cost: 0.000000\n",
      "Epoch:  600 W: 1.000, Cost: 0.000000\n",
      "Epoch:  650 W: 1.000, Cost: 0.000000\n",
      "Epoch:  700 W: 1.000, Cost: 0.000000\n",
      "Epoch:  750 W: 1.000, Cost: 0.000000\n",
      "Epoch:  800 W: 1.000, Cost: 0.000000\n",
      "Epoch:  850 W: 1.000, Cost: 0.000000\n",
      "Epoch:  900 W: 1.000, Cost: 0.000000\n",
      "Epoch:  950 W: 1.000, Cost: 0.000000\n",
      "Epoch: 1000 W: 1.000, Cost: 0.000000\n"
     ]
    }
   ],
   "source": [
    "import torch\n",
    "#training data\n",
    "x_train=torch.FloatTensor([[1],\n",
    "                           [2],\n",
    "                           [3]])\n",
    "\n",
    "y_train=torch.FloatTensor([[1],\n",
    "                           [2],\n",
    "                           [3]])\n",
    "#training variable\n",
    "W=torch.zeros(1)\n",
    "lr=0.1\n",
    "\n",
    "epochs=1000\n",
    "\n",
    "for epoch in range(epochs+1):\n",
    "    hypothesis=x_train*W\n",
    "    cost=torch.mean((hypothesis-y_train)**2)\n",
    "    gradient=torch.sum((W*x_train-y_train)*x_train)\n",
    "    \n",
    "    if epoch%50==0:\n",
    "        print('Epoch: {:4d} W: {:.3f}, Cost: {:.6f}'.format(epoch, W.item(), cost.item()))\n",
    "    \n",
    "    W=W-lr*gradient\n",
    "    \n",
    "    \n"
   ]
  },
  {
   "cell_type": "code",
   "execution_count": 5,
   "metadata": {},
   "outputs": [
    {
     "name": "stdout",
     "output_type": "stream",
     "text": [
      "Epoch:    0 W: 0.000, Cost: 4.666667\n",
      "Epoch:   50 W: 1.000, Cost: 0.000000\n",
      "Epoch:  100 W: 1.000, Cost: 0.000000\n",
      "Epoch:  150 W: 1.000, Cost: 0.000000\n",
      "Epoch:  200 W: 1.000, Cost: 0.000000\n",
      "Epoch:  250 W: 1.000, Cost: 0.000000\n",
      "Epoch:  300 W: 1.000, Cost: 0.000000\n",
      "Epoch:  350 W: 1.000, Cost: 0.000000\n",
      "Epoch:  400 W: 1.000, Cost: 0.000000\n",
      "Epoch:  450 W: 1.000, Cost: 0.000000\n",
      "Epoch:  500 W: 1.000, Cost: 0.000000\n",
      "Epoch:  550 W: 1.000, Cost: 0.000000\n",
      "Epoch:  600 W: 1.000, Cost: 0.000000\n",
      "Epoch:  650 W: 1.000, Cost: 0.000000\n",
      "Epoch:  700 W: 1.000, Cost: 0.000000\n",
      "Epoch:  750 W: 1.000, Cost: 0.000000\n",
      "Epoch:  800 W: 1.000, Cost: 0.000000\n",
      "Epoch:  850 W: 1.000, Cost: 0.000000\n",
      "Epoch:  900 W: 1.000, Cost: 0.000000\n",
      "Epoch:  950 W: 1.000, Cost: 0.000000\n",
      "Epoch: 1000 W: 1.000, Cost: 0.000000\n"
     ]
    }
   ],
   "source": [
    "import torch\n",
    "#use optim.SGD\n",
    "#training data\n",
    "x_train=torch.FloatTensor([[1],\n",
    "                           [2],\n",
    "                           [3]])\n",
    "\n",
    "y_train=torch.FloatTensor([[1],\n",
    "                           [2],\n",
    "                           [3]])\n",
    "#training variable\n",
    "W=torch.zeros(1,requires_grad=True)\n",
    "\n",
    "optimizer=torch.optim.SGD([W],lr=0.1)\n",
    "epochs=1000\n",
    "\n",
    "for epoch in range(epoch+1):\n",
    "    hypothesis=x_train*W\n",
    "    cost=torch.mean((hypothesis-y_train)**2)\n",
    "    \n",
    "    if epoch%50==0:\n",
    "        print('Epoch: {:4d} W: {:.3f}, Cost: {:.6f}'.format(epoch, W.item(), cost.item()))\n",
    "        \n",
    "    optimizer.zero_grad()\n",
    "    cost.backward()\n",
    "    optimizer.step()\n",
    "    \n",
    "        \n",
    "    \n",
    "    \n"
   ]
  }
 ],
 "metadata": {
  "kernelspec": {
   "display_name": "Python 3",
   "language": "python",
   "name": "python3"
  },
  "language_info": {
   "codemirror_mode": {
    "name": "ipython",
    "version": 3
   },
   "file_extension": ".py",
   "mimetype": "text/x-python",
   "name": "python",
   "nbconvert_exporter": "python",
   "pygments_lexer": "ipython3",
   "version": "3.7.4"
  }
 },
 "nbformat": 4,
 "nbformat_minor": 2
}
