{
 "cells": [
  {
   "cell_type": "code",
   "execution_count": 9,
   "metadata": {},
   "outputs": [
    {
     "name": "stdout",
     "output_type": "stream",
     "text": [
      "   0/1000 | Cost:1.0986\n",
      "  50/1000 | Cost:0.8363\n",
      " 100/1000 | Cost:0.7611\n",
      " 150/1000 | Cost:0.7200\n",
      " 200/1000 | Cost:0.6900\n",
      " 250/1000 | Cost:0.6652\n",
      " 300/1000 | Cost:0.6432\n",
      " 350/1000 | Cost:0.6231\n",
      " 400/1000 | Cost:0.6041\n",
      " 450/1000 | Cost:0.5859\n",
      " 500/1000 | Cost:0.5683\n",
      " 550/1000 | Cost:0.5510\n",
      " 600/1000 | Cost:0.5339\n",
      " 650/1000 | Cost:0.5171\n",
      " 700/1000 | Cost:0.5003\n",
      " 750/1000 | Cost:0.4836\n",
      " 800/1000 | Cost:0.4669\n",
      " 850/1000 | Cost:0.4502\n",
      " 900/1000 | Cost:0.4335\n",
      " 950/1000 | Cost:0.4168\n",
      "1000/1000 | Cost:0.4000\n"
     ]
    }
   ],
   "source": [
    "import torch\n",
    "import torch.nn as nn\n",
    "import torch.nn.functional as F\n",
    "import torch.optim as optim\n",
    "\n",
    "x_data=[[1,2,1,1],\n",
    "        [2,1,3,2],\n",
    "        [3,1,3,4],\n",
    "        [4,1,5,5],\n",
    "        [1,7,5,5],\n",
    "        [1,2,5,6],\n",
    "        [1,6,6,6],\n",
    "        [1,7,7,7]]\n",
    "\n",
    "y_data=[2, 2, 2, 1, 1, 1, 0, 0]\n",
    "\n",
    "x_train=torch.FloatTensor(x_data)\n",
    "y_train=torch.LongTensor(y_data)\n",
    "\n",
    "W=torch.zeros((4,3),requires_grad=True)\n",
    "b=torch.zeros(1,requires_grad=True)\n",
    "\n",
    "optimizer=optim.SGD([W,b],lr=0.1)\n",
    "\n",
    "epochs=1000\n",
    "\n",
    "for epoch in range(epochs+1):\n",
    "    hypothesis = torch.matmul(x_train,W)+b\n",
    "    cost=F.cross_entropy(hypothesis,y_train)\n",
    "    \n",
    "    optimizer.zero_grad()\n",
    "    cost.backward()\n",
    "    optimizer.step()\n",
    "    \n",
    "    if epoch %50==0:\n",
    "        print(\"{:4d}/{} | Cost:{:.4f}\".format(epoch,epochs,cost.item()))"
   ]
  },
  {
   "cell_type": "code",
   "execution_count": 11,
   "metadata": {},
   "outputs": [
    {
     "name": "stdout",
     "output_type": "stream",
     "text": [
      "   0/1000 | Cost:1.0986\n",
      "  50/1000 | Cost:0.8363\n",
      " 100/1000 | Cost:0.7611\n",
      " 150/1000 | Cost:0.7200\n",
      " 200/1000 | Cost:0.6900\n",
      " 250/1000 | Cost:0.6652\n",
      " 300/1000 | Cost:0.6432\n",
      " 350/1000 | Cost:0.6231\n",
      " 400/1000 | Cost:0.6041\n",
      " 450/1000 | Cost:0.5859\n",
      " 500/1000 | Cost:0.5683\n",
      " 550/1000 | Cost:0.5510\n",
      " 600/1000 | Cost:0.5339\n",
      " 650/1000 | Cost:0.5171\n",
      " 700/1000 | Cost:0.5003\n",
      " 750/1000 | Cost:0.4836\n",
      " 800/1000 | Cost:0.4669\n",
      " 850/1000 | Cost:0.4502\n",
      " 900/1000 | Cost:0.4335\n",
      " 950/1000 | Cost:0.4168\n",
      "1000/1000 | Cost:0.4000\n"
     ]
    }
   ],
   "source": [
    "import torch\n",
    "import torch.nn as nn\n",
    "import torch.nn.functional as F\n",
    "import torch.optim as optim\n",
    "\n",
    "x_data=[[1,2,1,1],\n",
    "        [2,1,3,2],\n",
    "        [3,1,3,4],\n",
    "        [4,1,5,5],\n",
    "        [1,7,5,5],\n",
    "        [1,2,5,6],\n",
    "        [1,6,6,6],\n",
    "        [1,7,7,7]]\n",
    "\n",
    "y_data=[2, 2, 2, 1, 1, 1, 0, 0]\n",
    "\n",
    "x_train=torch.FloatTensor(x_data)\n",
    "y_train=torch.LongTensor(y_data)\n",
    "\n",
    "W=torch.zeros((4,3),requires_grad=True)\n",
    "b=torch.zeros(1,requires_grad=True)\n",
    "\n",
    "optimizer=optim.SGD([W,b],lr=0.1)\n",
    "\n",
    "epochs=1000\n",
    "\n",
    "for epoch in range(epochs+1):\n",
    "    hypothesis = F.log_softmax(torch.matmul(x_train,W)+b,dim=1)\n",
    "    cost=F.nll_loss(hypothesis,y_train)\n",
    "    \n",
    "    optimizer.zero_grad()\n",
    "    cost.backward()\n",
    "    optimizer.step()\n",
    "    \n",
    "    if epoch %50==0:\n",
    "        print(\"{:4d}/{} | Cost:{:.4f}\".format(epoch,epochs,cost.item()))"
   ]
  }
 ],
 "metadata": {
  "kernelspec": {
   "display_name": "Python 3",
   "language": "python",
   "name": "python3"
  },
  "language_info": {
   "codemirror_mode": {
    "name": "ipython",
    "version": 3
   },
   "file_extension": ".py",
   "mimetype": "text/x-python",
   "name": "python",
   "nbconvert_exporter": "python",
   "pygments_lexer": "ipython3",
   "version": "3.7.4"
  }
 },
 "nbformat": 4,
 "nbformat_minor": 2
}
