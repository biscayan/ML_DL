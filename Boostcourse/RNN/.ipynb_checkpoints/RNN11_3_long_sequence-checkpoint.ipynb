{
 "cells": [
  {
   "cell_type": "code",
   "execution_count": 41,
   "metadata": {},
   "outputs": [],
   "source": [
    "import torch\n",
    "import numpy as np\n"
   ]
  },
  {
   "cell_type": "code",
   "execution_count": 42,
   "metadata": {},
   "outputs": [
    {
     "data": {
      "text/plain": [
       "<torch._C.Generator at 0x1cbaca834b0>"
      ]
     },
     "execution_count": 42,
     "metadata": {},
     "output_type": "execute_result"
    }
   ],
   "source": [
    "torch.manual_seed(0)"
   ]
  },
  {
   "cell_type": "code",
   "execution_count": 43,
   "metadata": {},
   "outputs": [
    {
     "name": "stdout",
     "output_type": "stream",
     "text": [
      "180\n"
     ]
    }
   ],
   "source": [
    "sentence = (\"if you want to build a ship, don't drum up people together to \"\n",
    "            \"collect wood and don't assign them tasks and work, but rather \"\n",
    "            \"teach them to long for the endless immensity of the sea.\")\n",
    "print(len(sentence))"
   ]
  },
  {
   "cell_type": "code",
   "execution_count": 44,
   "metadata": {},
   "outputs": [
    {
     "name": "stdout",
     "output_type": "stream",
     "text": [
      "['i', '.', 'n', ' ', \"'\", 'b', 't', 'l', 'm', 'r', 'a', 's', 'y', 'w', ',', 'g', 'u', 'p', 'o', 'k', 'h', 'd', 'f', 'c', 'e']\n",
      "{'i': 0, '.': 1, 'n': 2, ' ': 3, \"'\": 4, 'b': 5, 't': 6, 'l': 7, 'm': 8, 'r': 9, 'a': 10, 's': 11, 'y': 12, 'w': 13, ',': 14, 'g': 15, 'u': 16, 'p': 17, 'o': 18, 'k': 19, 'h': 20, 'd': 21, 'f': 22, 'c': 23, 'e': 24}\n"
     ]
    }
   ],
   "source": [
    "char_set=list(set(sentence))\n",
    "char_dict={c:i for i,c in enumerate(char_set)}\n",
    "print(char_set)\n",
    "print(char_dict)"
   ]
  },
  {
   "cell_type": "code",
   "execution_count": 45,
   "metadata": {},
   "outputs": [],
   "source": [
    "dict_size=len(char_dict)\n",
    "hidden_size=len(char_dict)\n",
    "sequence_length=10\n",
    "learning_rate=0.1\n",
    "epochs=200"
   ]
  },
  {
   "cell_type": "code",
   "execution_count": 46,
   "metadata": {},
   "outputs": [],
   "source": [
    "x_data=[]\n",
    "y_data=[]\n",
    "\n",
    "for i in range(0,len(sentence)-sequence_length):\n",
    "    x_str=sentence[i:i+sequence_length]\n",
    "    y_str=sentence[i+1:i+sequence_length+1]\n",
    "    x_data.append([char_dict[c] for c in x_str])\n",
    "    y_data.append([char_dict[c] for c in y_str])\n",
    "    \n",
    "x_one_hot=[np.eye(dict_size)[x] for x in x_data]\n",
    "\n",
    "X=torch.FloatTensor(x_one_hot)\n",
    "Y=torch.LongTensor(y_data)"
   ]
  },
  {
   "cell_type": "code",
   "execution_count": 47,
   "metadata": {},
   "outputs": [],
   "source": [
    "class Net(torch.nn.Module):\n",
    "    \n",
    "    def __init__(self,input_dim,hidden_dim,layers):\n",
    "        super(Net,self).__init__()\n",
    "        self.rnn=torch.nn.RNN(input_dim,hidden_dim,num_layers=layers,batch_first=True)\n",
    "        self.fc=torch.nn.Linear(hidden_dim,hidden_dim,bias=True)\n",
    "        \n",
    "    def forward(self,x):\n",
    "        x,_status=self.rnn(x)\n",
    "        x=self.fc(x)\n",
    "        return x\n",
    "    \n",
    "net=Net(dict_size,hidden_size,2)"
   ]
  },
  {
   "cell_type": "code",
   "execution_count": 48,
   "metadata": {},
   "outputs": [],
   "source": [
    "criterion=torch.nn.CrossEntropyLoss()\n",
    "optimizer=torch.optim.Adam(net.parameters(),lr=learning_rate)"
   ]
  },
  {
   "cell_type": "code",
   "execution_count": 49,
   "metadata": {},
   "outputs": [
    {
     "name": "stdout",
     "output_type": "stream",
     "text": [
      "Epoch:   0 | Loss:3.20638\n",
      "Epoch:  10 | Loss:2.59668\n",
      "Epoch:  20 | Loss:1.98096\n",
      "Epoch:  30 | Loss:1.37446\n",
      "Epoch:  40 | Loss:0.94660\n",
      "Epoch:  50 | Loss:0.73728\n",
      "Epoch:  60 | Loss:0.55732\n",
      "Epoch:  70 | Loss:0.44617\n",
      "Epoch:  80 | Loss:0.37315\n",
      "Epoch:  90 | Loss:0.34824\n",
      "Epoch: 100 | Loss:0.31471\n",
      "Epoch: 110 | Loss:0.29772\n",
      "Epoch: 120 | Loss:0.28229\n",
      "Epoch: 130 | Loss:0.27081\n",
      "Epoch: 140 | Loss:0.29464\n",
      "Epoch: 150 | Loss:0.27998\n",
      "Epoch: 160 | Loss:0.28188\n",
      "Epoch: 170 | Loss:0.27628\n",
      "Epoch: 180 | Loss:0.25661\n",
      "Epoch: 190 | Loss:0.24902\n",
      "Epoch: 200 | Loss:0.24436\n"
     ]
    }
   ],
   "source": [
    "for epoch in range(epochs+1):\n",
    "    optimizer.zero_grad()\n",
    "    outputs=net(X)\n",
    "    loss=criterion(outputs.view(-1,dict_size),Y.view(-1))\n",
    "    loss.backward()\n",
    "    optimizer.step()\n",
    "    \n",
    "    if epoch%10==0:\n",
    "        print(\"Epoch:{:4d}\".format(epoch),\"|\",\"Loss:{:.5f}\".format(loss.item()))"
   ]
  },
  {
   "cell_type": "code",
   "execution_count": null,
   "metadata": {},
   "outputs": [],
   "source": []
  }
 ],
 "metadata": {
  "kernelspec": {
   "display_name": "Python 3",
   "language": "python",
   "name": "python3"
  },
  "language_info": {
   "codemirror_mode": {
    "name": "ipython",
    "version": 3
   },
   "file_extension": ".py",
   "mimetype": "text/x-python",
   "name": "python",
   "nbconvert_exporter": "python",
   "pygments_lexer": "ipython3",
   "version": "3.7.6"
  }
 },
 "nbformat": 4,
 "nbformat_minor": 2
}
