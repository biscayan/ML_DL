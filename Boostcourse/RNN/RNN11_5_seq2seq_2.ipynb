{
 "cells": [
  {
   "cell_type": "code",
   "execution_count": 100,
   "metadata": {},
   "outputs": [],
   "source": [
    "import random\n",
    "import torch\n",
    "import torch.nn as nn\n",
    "import torch.optim as optim"
   ]
  },
  {
   "cell_type": "code",
   "execution_count": 101,
   "metadata": {},
   "outputs": [
    {
     "data": {
      "text/plain": [
       "<torch._C.Generator at 0x1ed80265490>"
      ]
     },
     "execution_count": 101,
     "metadata": {},
     "output_type": "execute_result"
    }
   ],
   "source": [
    "torch.manual_seed(0)"
   ]
  },
  {
   "cell_type": "code",
   "execution_count": 102,
   "metadata": {},
   "outputs": [
    {
     "name": "stdout",
     "output_type": "stream",
     "text": [
      "cuda\n"
     ]
    }
   ],
   "source": [
    "#use cuda\n",
    "device='cuda' if torch.cuda.is_available() else 'cpu'\n",
    "print(device)"
   ]
  },
  {
   "cell_type": "code",
   "execution_count": 103,
   "metadata": {},
   "outputs": [],
   "source": [
    "#raw data\n",
    "raw=[\"I feel hungry.\t나는 배가 고프다.\",\n",
    "       \"Pytorch is very easy.\t파이토치는 매우 쉽다.\",\n",
    "       \"Pytorch is a framework for deep learning.\t파이토치는 딥러닝을 위한 프레임워크이다.\",\n",
    "       \"Pytorch is very clear to use.\t파이토치는 사용하기 매우 직관적이다.\"]"
   ]
  },
  {
   "cell_type": "code",
   "execution_count": 104,
   "metadata": {},
   "outputs": [],
   "source": [
    "SOS_token=0 #start of sentence\n",
    "EOS_token=1 #end of sentence"
   ]
  },
  {
   "cell_type": "code",
   "execution_count": 105,
   "metadata": {},
   "outputs": [],
   "source": [
    "source_max_length=10\n",
    "target_max_length=12"
   ]
  },
  {
   "cell_type": "code",
   "execution_count": 106,
   "metadata": {},
   "outputs": [],
   "source": [
    "class Vocab:\n",
    "    def __init__ (self):\n",
    "        self.vocab2index={\"<SOS>\":SOS_token,\"<EOS>\":EOS_token}\n",
    "        self.index2vocab={SOS_token:\"<SOS>\",EOS_token:\"<EOS>\"}\n",
    "        self.vocab_count={}\n",
    "        self.n_vocab=len(self.vocab2index)\n",
    "        \n",
    "    def add_vocab(self,sentence):\n",
    "        for word in sentence.split(\" \"):\n",
    "            if word not in self.vocab2index:\n",
    "                self.vocab2index[word]=self.n_vocab\n",
    "                self.vocab_count[word]=1\n",
    "                self.index2vocab[self.n_vocab]=word\n",
    "                self.n_vocab+=1\n",
    "            else:\n",
    "                self.vocab_count[word]+=1"
   ]
  },
  {
   "cell_type": "code",
   "execution_count": 107,
   "metadata": {},
   "outputs": [],
   "source": [
    "def filter_pair(pair,source_max_length,target_max_length):\n",
    "    return len(pair[0].split(\" \"))<source_max_length and len(pair[1].split(\" \")) <target_max_length"
   ]
  },
  {
   "cell_type": "code",
   "execution_count": 108,
   "metadata": {},
   "outputs": [],
   "source": [
    "def preprocess(corpus,source_max_length,target_max_length):\n",
    "    \n",
    "    print(\"Reading corpus...\")\n",
    "    \n",
    "    pairs=[]\n",
    "    \n",
    "    for line in corpus:\n",
    "        pairs.append([s for s in line.strip().lower().split(\"\\t\")])\n",
    "    print(\"Read {} sentence pairs\".format(len(pairs)))\n",
    "    \n",
    "    pairs=[pair for pair in pairs if filter_pair(pair,source_max_length,target_max_length)]\n",
    "    \n",
    "    print(\"Trimmed to {} sentence pairs\".format(len(pairs)))\n",
    "    \n",
    "    print(\"Counting words...\")\n",
    "    \n",
    "    source_vocab=Vocab()\n",
    "    target_vocab=Vocab()\n",
    "    \n",
    "    for pair in pairs:\n",
    "        source_vocab.add_vocab(pair[0])\n",
    "        target_vocab.add_vocab(pair[1])\n",
    "        \n",
    "    print(\"source vocab size = {}\".format(source_vocab.n_vocab))\n",
    "    print(\"target vocab size = {}\".format(target_vocab.n_vocab))\n",
    "    \n",
    "    return pairs,source_vocab,target_vocab"
   ]
  },
  {
   "cell_type": "code",
   "execution_count": 109,
   "metadata": {},
   "outputs": [
    {
     "name": "stdout",
     "output_type": "stream",
     "text": [
      "Reading corpus...\n",
      "Read 4 sentence pairs\n",
      "Trimmed to 4 sentence pairs\n",
      "Counting words...\n",
      "source vocab size = 17\n",
      "target vocab size = 13\n"
     ]
    }
   ],
   "source": [
    "load_pairs,load_source_vocab,load_target_vocab=preprocess(raw,source_max_length,target_max_length)"
   ]
  },
  {
   "cell_type": "code",
   "execution_count": 110,
   "metadata": {},
   "outputs": [],
   "source": [
    "class Encoder(nn.Module):\n",
    "    def __init__(self,input_size,hidden_size):\n",
    "        super(Encoder,self).__init__()\n",
    "        self.hidden_size=hidden_size\n",
    "        self.embedding=nn.Embedding(input_size,hidden_size)\n",
    "        self.gru=nn.GRU(hidden_size,hidden_size)\n",
    "        \n",
    "    def forward(self,x,hidden):\n",
    "        x=self.embedding(x).view(1,1,-1)\n",
    "        x,hidden=self.gru(x,hidden)\n",
    "        return x,hidden"
   ]
  },
  {
   "cell_type": "code",
   "execution_count": 111,
   "metadata": {},
   "outputs": [],
   "source": [
    "class Decoder(nn.Module):\n",
    "    def __init__(self,hidden_size,output_size):\n",
    "        super(Decoder,self).__init__()\n",
    "        self.hidden_size=hidden_size\n",
    "        self.embedding=nn.Embedding(output_size,hidden_size)\n",
    "        self.gru=nn.GRU(hidden_size,hidden_size)\n",
    "        self.out=nn.Linear(hidden_size,output_size)\n",
    "        self.softmax=nn.LogSoftmax(dim=1)\n",
    "        \n",
    "    def forward(self,x,hidden):\n",
    "        x=self.embedding(x).view(1,1,-1)\n",
    "        x,hidden=self.gru(x,hidden)\n",
    "        x=self.softmax(self.out(x[0]))\n",
    "        return x,hidden"
   ]
  },
  {
   "cell_type": "code",
   "execution_count": 112,
   "metadata": {},
   "outputs": [],
   "source": [
    "enc_hidden_size=16\n",
    "dec_hidden_size=enc_hidden_size"
   ]
  },
  {
   "cell_type": "code",
   "execution_count": 113,
   "metadata": {},
   "outputs": [],
   "source": [
    "encoder=Encoder(load_source_vocab.n_vocab,enc_hidden_size).to(device)\n",
    "decoder=Decoder(dec_hidden_size,load_target_vocab.n_vocab).to(device)"
   ]
  },
  {
   "cell_type": "code",
   "execution_count": 114,
   "metadata": {},
   "outputs": [],
   "source": [
    "def tensorize(vocab,sentence):\n",
    "    indexes=[vocab.vocab2index[word] for word in sentence.split(\" \")]\n",
    "    indexes.append(vocab.vocab2index[\"<EOS>\"])\n",
    "    return torch.Tensor(indexes).long().to(device).view(-1,1)"
   ]
  },
  {
   "cell_type": "code",
   "execution_count": 115,
   "metadata": {},
   "outputs": [],
   "source": [
    "epochs=5000\n",
    "learning_rate=0.01"
   ]
  },
  {
   "cell_type": "code",
   "execution_count": 116,
   "metadata": {},
   "outputs": [],
   "source": [
    "def train(pairs,source_vocab,target_vocab,encoder,decoder,epochs,learning_rate):\n",
    "    \n",
    "    loss_total=0\n",
    "    \n",
    "    encoder_optimizer=optim.SGD(encoder.parameters(),lr=learning_rate)\n",
    "    decoder_optimizer=optim.SGD(decoder.parameters(),lr=learning_rate)\n",
    "    \n",
    "    training_batch=[random.choice(pairs) for _ in range(epochs)]\n",
    "    training_source=[tensorize(source_vocab,pair[0]) for pair in training_batch]\n",
    "    training_target=[tensorize(target_vocab,pair[1]) for pair in training_batch]\n",
    "    \n",
    "    criterion=nn.NLLLoss()\n",
    "    \n",
    "    for epoch in range(1,epochs+1):\n",
    "        \n",
    "        encoder_optimizer.zero_grad()\n",
    "        decoder_optimizer.zero_grad()\n",
    "        \n",
    "        source_tensor=training_source[epoch-1]\n",
    "        target_tensor=training_target[epoch-1]\n",
    "        \n",
    "        source_length=source_tensor.size(0)\n",
    "        target_length=target_tensor.size(0)\n",
    "        \n",
    "        encoder_hidden=torch.zeros([1,1,encoder.hidden_size]).to(device)\n",
    "        \n",
    "        loss=0\n",
    "        \n",
    "        for ei in range(source_length):\n",
    "            _,encoder_hidden=encoder(source_tensor[ei],encoder_hidden)\n",
    "            \n",
    "        decoder_input=torch.Tensor([[SOS_token]]).long().to(device)\n",
    "        decoder_hidden=encoder_hidden\n",
    "        \n",
    "        for di in range(target_length):\n",
    "            decoder_output,decoder_hidden=decoder(decoder_input,decoder_hidden)\n",
    "            loss+=criterion(decoder_output,target_tensor[di])\n",
    "            \n",
    "        loss.backward()\n",
    "        \n",
    "        encoder_optimizer.step()\n",
    "        decoder_optimizer.step()\n",
    "        \n",
    "        loss=loss.item()/target_length\n",
    "        loss_total+=loss\n",
    "        \n",
    "        if epoch % 1000 ==0:\n",
    "            loss_avg=loss_total/1000\n",
    "            loss_total=0\n",
    "            print(\"[{}-{}%] loss={:.4f}\".format(epoch,epoch/epochs*100,loss_avg))"
   ]
  },
  {
   "cell_type": "code",
   "execution_count": 117,
   "metadata": {},
   "outputs": [
    {
     "name": "stdout",
     "output_type": "stream",
     "text": [
      "[1000-20.0%] loss=1.2079\n",
      "[2000-40.0%] loss=0.2322\n",
      "[3000-60.0%] loss=0.0687\n",
      "[4000-80.0%] loss=0.0363\n",
      "[5000-100.0%] loss=0.0240\n"
     ]
    }
   ],
   "source": [
    "train(load_pairs,load_source_vocab,load_target_vocab,encoder,decoder,epochs,learning_rate)"
   ]
  },
  {
   "cell_type": "code",
   "execution_count": 118,
   "metadata": {},
   "outputs": [],
   "source": [
    "def evaluate(pairs,source_vocab,target_vocab,encoder,decoder,target_max_length):\n",
    "    for pair in pairs:\n",
    "        print(pair[0],\"=\",pair[1])\n",
    "        \n",
    "        source_tensor=tensorize(source_vocab,pair[0])\n",
    "        source_length=source_tensor.size()[0]\n",
    "        encoder_hidden=torch.zeros([1,1,encoder.hidden_size]).to(device)\n",
    "        \n",
    "        for ei in range(source_length):\n",
    "            _,encoder_hidden=encoder(source_tensor[ei],encoder_hidden)\n",
    "            \n",
    "        decoder_input=torch.Tensor([[SOS_token]]).long().to(device)\n",
    "        decoder_hidden=encoder_hidden\n",
    "        decoded_words=[]\n",
    "        \n",
    "        for di in range(target_max_length):\n",
    "            decoder_output,decoder_hidden=decoder(decoder_input,decoder_hidden)\n",
    "            _,top_index=decoder_output.data.topk(1)\n",
    "            if top_index.item() == EOS_token:\n",
    "                decoded_words.append(\"<EOS>\")\n",
    "                break\n",
    "            else:\n",
    "                decoded_words.append(target_vocab.index2vocab[top_index.item()])\n",
    "                \n",
    "            decoder_input=top_index.squeeze().detach()\n",
    "            \n",
    "        predicted_words=decoded_words\n",
    "        predicted_sentence=\" \".join(predicted_words)\n",
    "        \n",
    "        print(\"->\",predicted_sentence)\n",
    "        print(\" \")"
   ]
  },
  {
   "cell_type": "code",
   "execution_count": 119,
   "metadata": {},
   "outputs": [
    {
     "name": "stdout",
     "output_type": "stream",
     "text": [
      "i feel hungry. = 나는 배가 고프다.\n",
      "-> 나는 나는 나는 나는 나는 나는 나는 나는 나는 나는 나는 나는\n",
      " \n",
      "pytorch is very easy. = 파이토치는 매우 쉽다.\n",
      "-> 파이토치는 매우 매우 파이토치는 매우 배가 고프다. <EOS>\n",
      " \n",
      "pytorch is a framework for deep learning. = 파이토치는 딥러닝을 위한 프레임워크이다.\n",
      "-> 파이토치는 딥러닝을 위한 위한 프레임워크이다. 프레임워크이다. 직관적이다. 매우 파이토치는 프레임워크이다. 쉽다. 직관적이다.\n",
      " \n",
      "pytorch is very clear to use. = 파이토치는 사용하기 매우 직관적이다.\n",
      "-> 파이토치는 사용하기 사용하기 사용하기 사용하기 사용하기 사용하기 사용하기 사용하기 사용하기 사용하기 사용하기\n",
      " \n"
     ]
    }
   ],
   "source": [
    "evaluate(load_pairs,load_source_vocab,load_target_vocab,encoder,decoder,target_max_length)"
   ]
  },
  {
   "cell_type": "code",
   "execution_count": null,
   "metadata": {},
   "outputs": [],
   "source": []
  }
 ],
 "metadata": {
  "kernelspec": {
   "display_name": "Python 3",
   "language": "python",
   "name": "python3"
  },
  "language_info": {
   "codemirror_mode": {
    "name": "ipython",
    "version": 3
   },
   "file_extension": ".py",
   "mimetype": "text/x-python",
   "name": "python",
   "nbconvert_exporter": "python",
   "pygments_lexer": "ipython3",
   "version": "3.7.6"
  }
 },
 "nbformat": 4,
 "nbformat_minor": 2
}
