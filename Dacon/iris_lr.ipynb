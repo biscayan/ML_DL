{
 "cells": [
  {
   "cell_type": "markdown",
   "metadata": {},
   "source": [
    "# import libraries"
   ]
  },
  {
   "cell_type": "code",
   "execution_count": 1,
   "metadata": {},
   "outputs": [],
   "source": [
    "import pandas as pd\n",
    "import numpy as np\n",
    "from sklearn.linear_model import LinearRegression"
   ]
  },
  {
   "cell_type": "markdown",
   "metadata": {},
   "source": [
    "# data load"
   ]
  },
  {
   "cell_type": "code",
   "execution_count": 2,
   "metadata": {},
   "outputs": [],
   "source": [
    "data_dir = '../data/'\n",
    "train = pd.read_csv(data_dir+'iris_train.csv')\n",
    "test = pd.read_csv(data_dir+'iris_test.csv')\n",
    "submission = pd.read_csv(data_dir+'sample_submission.csv')"
   ]
  },
  {
   "cell_type": "code",
   "execution_count": 3,
   "metadata": {},
   "outputs": [
    {
     "data": {
      "text/html": [
       "<div>\n",
       "<style scoped>\n",
       "    .dataframe tbody tr th:only-of-type {\n",
       "        vertical-align: middle;\n",
       "    }\n",
       "\n",
       "    .dataframe tbody tr th {\n",
       "        vertical-align: top;\n",
       "    }\n",
       "\n",
       "    .dataframe thead th {\n",
       "        text-align: right;\n",
       "    }\n",
       "</style>\n",
       "<table border=\"1\" class=\"dataframe\">\n",
       "  <thead>\n",
       "    <tr style=\"text-align: right;\">\n",
       "      <th></th>\n",
       "      <th>id</th>\n",
       "      <th>species</th>\n",
       "      <th>sepal length (cm)</th>\n",
       "      <th>petal length (cm)</th>\n",
       "      <th>sepal width (cm)</th>\n",
       "      <th>petal width (cm)</th>\n",
       "    </tr>\n",
       "  </thead>\n",
       "  <tbody>\n",
       "    <tr>\n",
       "      <th>0</th>\n",
       "      <td>0</td>\n",
       "      <td>setosa</td>\n",
       "      <td>4.4</td>\n",
       "      <td>1.4</td>\n",
       "      <td>2.9</td>\n",
       "      <td>0.2</td>\n",
       "    </tr>\n",
       "    <tr>\n",
       "      <th>1</th>\n",
       "      <td>1</td>\n",
       "      <td>versicolor</td>\n",
       "      <td>6.4</td>\n",
       "      <td>4.5</td>\n",
       "      <td>3.2</td>\n",
       "      <td>1.5</td>\n",
       "    </tr>\n",
       "    <tr>\n",
       "      <th>2</th>\n",
       "      <td>2</td>\n",
       "      <td>virginica</td>\n",
       "      <td>6.2</td>\n",
       "      <td>4.8</td>\n",
       "      <td>2.8</td>\n",
       "      <td>1.8</td>\n",
       "    </tr>\n",
       "    <tr>\n",
       "      <th>3</th>\n",
       "      <td>3</td>\n",
       "      <td>virginica</td>\n",
       "      <td>7.2</td>\n",
       "      <td>6.1</td>\n",
       "      <td>3.6</td>\n",
       "      <td>2.5</td>\n",
       "    </tr>\n",
       "    <tr>\n",
       "      <th>4</th>\n",
       "      <td>4</td>\n",
       "      <td>setosa</td>\n",
       "      <td>4.9</td>\n",
       "      <td>1.4</td>\n",
       "      <td>3.0</td>\n",
       "      <td>0.2</td>\n",
       "    </tr>\n",
       "    <tr>\n",
       "      <th>5</th>\n",
       "      <td>5</td>\n",
       "      <td>virginica</td>\n",
       "      <td>6.5</td>\n",
       "      <td>5.8</td>\n",
       "      <td>3.0</td>\n",
       "      <td>2.2</td>\n",
       "    </tr>\n",
       "    <tr>\n",
       "      <th>6</th>\n",
       "      <td>6</td>\n",
       "      <td>setosa</td>\n",
       "      <td>4.3</td>\n",
       "      <td>1.1</td>\n",
       "      <td>3.0</td>\n",
       "      <td>0.1</td>\n",
       "    </tr>\n",
       "    <tr>\n",
       "      <th>7</th>\n",
       "      <td>7</td>\n",
       "      <td>versicolor</td>\n",
       "      <td>6.7</td>\n",
       "      <td>5.0</td>\n",
       "      <td>3.0</td>\n",
       "      <td>1.7</td>\n",
       "    </tr>\n",
       "    <tr>\n",
       "      <th>8</th>\n",
       "      <td>8</td>\n",
       "      <td>versicolor</td>\n",
       "      <td>6.8</td>\n",
       "      <td>4.8</td>\n",
       "      <td>2.8</td>\n",
       "      <td>1.4</td>\n",
       "    </tr>\n",
       "    <tr>\n",
       "      <th>9</th>\n",
       "      <td>9</td>\n",
       "      <td>versicolor</td>\n",
       "      <td>6.6</td>\n",
       "      <td>4.4</td>\n",
       "      <td>3.0</td>\n",
       "      <td>1.4</td>\n",
       "    </tr>\n",
       "  </tbody>\n",
       "</table>\n",
       "</div>"
      ],
      "text/plain": [
       "   id     species  sepal length (cm)  petal length (cm)  sepal width (cm)  \\\n",
       "0   0      setosa                4.4                1.4               2.9   \n",
       "1   1  versicolor                6.4                4.5               3.2   \n",
       "2   2   virginica                6.2                4.8               2.8   \n",
       "3   3   virginica                7.2                6.1               3.6   \n",
       "4   4      setosa                4.9                1.4               3.0   \n",
       "5   5   virginica                6.5                5.8               3.0   \n",
       "6   6      setosa                4.3                1.1               3.0   \n",
       "7   7  versicolor                6.7                5.0               3.0   \n",
       "8   8  versicolor                6.8                4.8               2.8   \n",
       "9   9  versicolor                6.6                4.4               3.0   \n",
       "\n",
       "   petal width (cm)  \n",
       "0               0.2  \n",
       "1               1.5  \n",
       "2               1.8  \n",
       "3               2.5  \n",
       "4               0.2  \n",
       "5               2.2  \n",
       "6               0.1  \n",
       "7               1.7  \n",
       "8               1.4  \n",
       "9               1.4  "
      ]
     },
     "execution_count": 3,
     "metadata": {},
     "output_type": "execute_result"
    }
   ],
   "source": [
    "train.head(10)"
   ]
  },
  {
   "cell_type": "code",
   "execution_count": 4,
   "metadata": {},
   "outputs": [
    {
     "data": {
      "text/html": [
       "<div>\n",
       "<style scoped>\n",
       "    .dataframe tbody tr th:only-of-type {\n",
       "        vertical-align: middle;\n",
       "    }\n",
       "\n",
       "    .dataframe tbody tr th {\n",
       "        vertical-align: top;\n",
       "    }\n",
       "\n",
       "    .dataframe thead th {\n",
       "        text-align: right;\n",
       "    }\n",
       "</style>\n",
       "<table border=\"1\" class=\"dataframe\">\n",
       "  <thead>\n",
       "    <tr style=\"text-align: right;\">\n",
       "      <th></th>\n",
       "      <th>id</th>\n",
       "      <th>species</th>\n",
       "      <th>sepal length (cm)</th>\n",
       "      <th>petal length (cm)</th>\n",
       "    </tr>\n",
       "  </thead>\n",
       "  <tbody>\n",
       "    <tr>\n",
       "      <th>0</th>\n",
       "      <td>0</td>\n",
       "      <td>setosa</td>\n",
       "      <td>5.4</td>\n",
       "      <td>1.7</td>\n",
       "    </tr>\n",
       "    <tr>\n",
       "      <th>1</th>\n",
       "      <td>1</td>\n",
       "      <td>setosa</td>\n",
       "      <td>5.7</td>\n",
       "      <td>1.5</td>\n",
       "    </tr>\n",
       "    <tr>\n",
       "      <th>2</th>\n",
       "      <td>2</td>\n",
       "      <td>setosa</td>\n",
       "      <td>5.3</td>\n",
       "      <td>1.5</td>\n",
       "    </tr>\n",
       "    <tr>\n",
       "      <th>3</th>\n",
       "      <td>3</td>\n",
       "      <td>setosa</td>\n",
       "      <td>5.1</td>\n",
       "      <td>1.9</td>\n",
       "    </tr>\n",
       "    <tr>\n",
       "      <th>4</th>\n",
       "      <td>4</td>\n",
       "      <td>virginica</td>\n",
       "      <td>6.0</td>\n",
       "      <td>4.8</td>\n",
       "    </tr>\n",
       "    <tr>\n",
       "      <th>5</th>\n",
       "      <td>5</td>\n",
       "      <td>virginica</td>\n",
       "      <td>5.8</td>\n",
       "      <td>5.1</td>\n",
       "    </tr>\n",
       "    <tr>\n",
       "      <th>6</th>\n",
       "      <td>6</td>\n",
       "      <td>setosa</td>\n",
       "      <td>5.4</td>\n",
       "      <td>1.5</td>\n",
       "    </tr>\n",
       "    <tr>\n",
       "      <th>7</th>\n",
       "      <td>7</td>\n",
       "      <td>setosa</td>\n",
       "      <td>5.0</td>\n",
       "      <td>1.4</td>\n",
       "    </tr>\n",
       "    <tr>\n",
       "      <th>8</th>\n",
       "      <td>8</td>\n",
       "      <td>setosa</td>\n",
       "      <td>4.9</td>\n",
       "      <td>1.5</td>\n",
       "    </tr>\n",
       "    <tr>\n",
       "      <th>9</th>\n",
       "      <td>9</td>\n",
       "      <td>versicolor</td>\n",
       "      <td>6.0</td>\n",
       "      <td>4.5</td>\n",
       "    </tr>\n",
       "  </tbody>\n",
       "</table>\n",
       "</div>"
      ],
      "text/plain": [
       "   id     species  sepal length (cm)  petal length (cm)\n",
       "0   0      setosa                5.4                1.7\n",
       "1   1      setosa                5.7                1.5\n",
       "2   2      setosa                5.3                1.5\n",
       "3   3      setosa                5.1                1.9\n",
       "4   4   virginica                6.0                4.8\n",
       "5   5   virginica                5.8                5.1\n",
       "6   6      setosa                5.4                1.5\n",
       "7   7      setosa                5.0                1.4\n",
       "8   8      setosa                4.9                1.5\n",
       "9   9  versicolor                6.0                4.5"
      ]
     },
     "execution_count": 4,
     "metadata": {},
     "output_type": "execute_result"
    }
   ],
   "source": [
    "test.head(10)"
   ]
  },
  {
   "cell_type": "code",
   "execution_count": 5,
   "metadata": {},
   "outputs": [
    {
     "data": {
      "text/plain": [
       "((75, 6), (75, 4))"
      ]
     },
     "execution_count": 5,
     "metadata": {},
     "output_type": "execute_result"
    }
   ],
   "source": [
    "train.shape, test.shape"
   ]
  },
  {
   "cell_type": "code",
   "execution_count": 6,
   "metadata": {},
   "outputs": [],
   "source": [
    "sepal_train_length = train['sepal length (cm)']\n",
    "sepal_train_width = train['sepal width (cm)']\n",
    "\n",
    "petal_train_length = train['petal length (cm)']\n",
    "petal_train_width = train['petal width (cm)']"
   ]
  },
  {
   "cell_type": "code",
   "execution_count": 7,
   "metadata": {},
   "outputs": [],
   "source": [
    "sepal_train_length = np.array(sepal_train_length).reshape(-1, 1)\n",
    "sepal_train_width = np.array(sepal_train_width).reshape(-1, 1)\n",
    "\n",
    "petal_train_length = np.array(petal_train_length).reshape(-1, 1)\n",
    "petal_train_width = np.array(petal_train_width).reshape(-1, 1)"
   ]
  },
  {
   "cell_type": "markdown",
   "metadata": {},
   "source": [
    "# model training"
   ]
  },
  {
   "cell_type": "code",
   "execution_count": 8,
   "metadata": {},
   "outputs": [
    {
     "data": {
      "text/plain": [
       "LinearRegression(copy_X=True, fit_intercept=True, n_jobs=None, normalize=False)"
      ]
     },
     "execution_count": 8,
     "metadata": {},
     "output_type": "execute_result"
    }
   ],
   "source": [
    "sepal_lr_model = LinearRegression()\n",
    "sepal_lr_model.fit(sepal_train_length, sepal_train_width)"
   ]
  },
  {
   "cell_type": "code",
   "execution_count": 9,
   "metadata": {},
   "outputs": [
    {
     "data": {
      "text/plain": [
       "LinearRegression(copy_X=True, fit_intercept=True, n_jobs=None, normalize=False)"
      ]
     },
     "execution_count": 9,
     "metadata": {},
     "output_type": "execute_result"
    }
   ],
   "source": [
    "petal_lr_model = LinearRegression()\n",
    "petal_lr_model.fit(petal_train_length, petal_train_width)"
   ]
  },
  {
   "cell_type": "markdown",
   "metadata": {},
   "source": [
    "# prediction"
   ]
  },
  {
   "cell_type": "code",
   "execution_count": 10,
   "metadata": {},
   "outputs": [],
   "source": [
    "sepal_test_length = test['sepal length (cm)']\n",
    "petal_test_length = test['petal length (cm)']"
   ]
  },
  {
   "cell_type": "code",
   "execution_count": 11,
   "metadata": {},
   "outputs": [],
   "source": [
    "sepal_test_length = np.array(sepal_test_length).reshape(-1, 1)\n",
    "petal_test_length = np.array(petal_test_length).reshape(-1, 1)"
   ]
  },
  {
   "cell_type": "code",
   "execution_count": 13,
   "metadata": {},
   "outputs": [],
   "source": [
    "sepal_width_preds = sepal_lr_model.predict(sepal_test_length)"
   ]
  },
  {
   "cell_type": "code",
   "execution_count": 14,
   "metadata": {},
   "outputs": [],
   "source": [
    "petal_width_preds = petal_lr_model.predict(petal_test_length)"
   ]
  },
  {
   "cell_type": "code",
   "execution_count": 15,
   "metadata": {},
   "outputs": [
    {
     "name": "stdout",
     "output_type": "stream",
     "text": [
      "[[2.95062169]\n",
      " [2.95436935]\n",
      " [2.94937247]\n",
      " [2.94687403]\n",
      " [2.95811701]\n",
      " [2.95561857]\n",
      " [2.95062169]\n",
      " [2.94562481]\n",
      " [2.94437559]\n",
      " [2.95811701]\n",
      " [2.94437559]\n",
      " [2.94312637]\n",
      " [2.96186467]\n",
      " [2.98185218]\n",
      " [2.95312013]\n",
      " [2.96186467]\n",
      " [2.94062793]\n",
      " [2.96935999]\n",
      " [2.95936623]\n",
      " [2.95936623]\n",
      " [2.96311389]\n",
      " [2.94312637]\n",
      " [2.95436935]\n",
      " [2.94687403]\n",
      " [2.95187091]\n",
      " [2.94312637]\n",
      " [2.94687403]\n",
      " [2.94812325]\n",
      " [2.95062169]\n",
      " [2.96935999]\n",
      " [2.95561857]\n",
      " [2.94812325]\n",
      " [2.93812949]\n",
      " [2.96811077]\n",
      " [2.96436311]\n",
      " [2.94687403]\n",
      " [2.93937871]\n",
      " [2.95436935]\n",
      " [2.94562481]\n",
      " [2.96686155]\n",
      " [2.94687403]\n",
      " [2.94562481]\n",
      " [2.97560609]\n",
      " [2.94562481]\n",
      " [2.97935375]\n",
      " [2.94062793]\n",
      " [2.96061545]\n",
      " [2.94562481]\n",
      " [2.95436935]\n",
      " [2.96061545]\n",
      " [2.94562481]\n",
      " [2.95187091]\n",
      " [2.95187091]\n",
      " [2.95062169]\n",
      " [2.95187091]\n",
      " [2.95811701]\n",
      " [2.95187091]\n",
      " [2.95312013]\n",
      " [2.94562481]\n",
      " [2.96186467]\n",
      " [2.96686155]\n",
      " [2.95187091]\n",
      " [2.96686155]\n",
      " [2.96311389]\n",
      " [2.94187715]\n",
      " [2.94687403]\n",
      " [2.96686155]\n",
      " [2.94687403]\n",
      " [2.94812325]\n",
      " [2.95436935]\n",
      " [2.95561857]\n",
      " [2.93812949]\n",
      " [2.96186467]\n",
      " [2.94687403]\n",
      " [2.95686779]]\n"
     ]
    }
   ],
   "source": [
    "print(sepal_width_preds)"
   ]
  },
  {
   "cell_type": "code",
   "execution_count": 16,
   "metadata": {},
   "outputs": [
    {
     "name": "stdout",
     "output_type": "stream",
     "text": [
      "[[0.33112216]\n",
      " [0.24882321]\n",
      " [0.24882321]\n",
      " [0.4134211 ]\n",
      " [1.60675581]\n",
      " [1.73020423]\n",
      " [0.24882321]\n",
      " [0.20767374]\n",
      " [0.24882321]\n",
      " [1.48330739]\n",
      " [0.20767374]\n",
      " [0.20767374]\n",
      " [1.73020423]\n",
      " [2.26514738]\n",
      " [1.35985898]\n",
      " [1.68905476]\n",
      " [0.20767374]\n",
      " [1.73020423]\n",
      " [1.52445687]\n",
      " [1.93595159]\n",
      " [1.93595159]\n",
      " [0.4134211 ]\n",
      " [1.3187095 ]\n",
      " [0.28997268]\n",
      " [1.15411161]\n",
      " [0.28997268]\n",
      " [0.33112216]\n",
      " [0.20767374]\n",
      " [0.16652427]\n",
      " [1.85365265]\n",
      " [1.23641056]\n",
      " [0.24882321]\n",
      " [0.16652427]\n",
      " [2.05940001]\n",
      " [1.7713537 ]\n",
      " [0.24882321]\n",
      " [0.16652427]\n",
      " [1.35985898]\n",
      " [0.28997268]\n",
      " [1.56560634]\n",
      " [0.24882321]\n",
      " [0.16652427]\n",
      " [2.14169896]\n",
      " [0.28997268]\n",
      " [2.14169896]\n",
      " [0.04307585]\n",
      " [1.85365265]\n",
      " [0.98951372]\n",
      " [0.33112216]\n",
      " [1.40100845]\n",
      " [0.28997268]\n",
      " [1.44215792]\n",
      " [1.19526108]\n",
      " [1.48330739]\n",
      " [0.16652427]\n",
      " [1.73020423]\n",
      " [0.20767374]\n",
      " [1.3187095 ]\n",
      " [0.12537479]\n",
      " [1.44215792]\n",
      " [1.97710107]\n",
      " [1.27756003]\n",
      " [1.93595159]\n",
      " [1.89480212]\n",
      " [0.28997268]\n",
      " [0.24882321]\n",
      " [1.7713537 ]\n",
      " [0.20767374]\n",
      " [0.24882321]\n",
      " [1.35985898]\n",
      " [1.27756003]\n",
      " [0.16652427]\n",
      " [1.93595159]\n",
      " [0.8660653 ]\n",
      " [1.73020423]]\n"
     ]
    }
   ],
   "source": [
    "print(petal_width_preds)"
   ]
  },
  {
   "cell_type": "markdown",
   "metadata": {},
   "source": [
    "# submission"
   ]
  },
  {
   "cell_type": "code",
   "execution_count": 17,
   "metadata": {},
   "outputs": [],
   "source": [
    "submission['sepal width (cm)'] = sepal_width_preds\n",
    "submission['petal width (cm)'] = petal_width_preds"
   ]
  },
  {
   "cell_type": "code",
   "execution_count": 18,
   "metadata": {},
   "outputs": [
    {
     "data": {
      "text/html": [
       "<div>\n",
       "<style scoped>\n",
       "    .dataframe tbody tr th:only-of-type {\n",
       "        vertical-align: middle;\n",
       "    }\n",
       "\n",
       "    .dataframe tbody tr th {\n",
       "        vertical-align: top;\n",
       "    }\n",
       "\n",
       "    .dataframe thead th {\n",
       "        text-align: right;\n",
       "    }\n",
       "</style>\n",
       "<table border=\"1\" class=\"dataframe\">\n",
       "  <thead>\n",
       "    <tr style=\"text-align: right;\">\n",
       "      <th></th>\n",
       "      <th>id</th>\n",
       "      <th>sepal width (cm)</th>\n",
       "      <th>petal width (cm)</th>\n",
       "    </tr>\n",
       "  </thead>\n",
       "  <tbody>\n",
       "    <tr>\n",
       "      <th>0</th>\n",
       "      <td>0</td>\n",
       "      <td>2.950622</td>\n",
       "      <td>0.331122</td>\n",
       "    </tr>\n",
       "    <tr>\n",
       "      <th>1</th>\n",
       "      <td>1</td>\n",
       "      <td>2.954369</td>\n",
       "      <td>0.248823</td>\n",
       "    </tr>\n",
       "    <tr>\n",
       "      <th>2</th>\n",
       "      <td>2</td>\n",
       "      <td>2.949372</td>\n",
       "      <td>0.248823</td>\n",
       "    </tr>\n",
       "    <tr>\n",
       "      <th>3</th>\n",
       "      <td>3</td>\n",
       "      <td>2.946874</td>\n",
       "      <td>0.413421</td>\n",
       "    </tr>\n",
       "    <tr>\n",
       "      <th>4</th>\n",
       "      <td>4</td>\n",
       "      <td>2.958117</td>\n",
       "      <td>1.606756</td>\n",
       "    </tr>\n",
       "    <tr>\n",
       "      <th>...</th>\n",
       "      <td>...</td>\n",
       "      <td>...</td>\n",
       "      <td>...</td>\n",
       "    </tr>\n",
       "    <tr>\n",
       "      <th>70</th>\n",
       "      <td>70</td>\n",
       "      <td>2.955619</td>\n",
       "      <td>1.277560</td>\n",
       "    </tr>\n",
       "    <tr>\n",
       "      <th>71</th>\n",
       "      <td>71</td>\n",
       "      <td>2.938129</td>\n",
       "      <td>0.166524</td>\n",
       "    </tr>\n",
       "    <tr>\n",
       "      <th>72</th>\n",
       "      <td>72</td>\n",
       "      <td>2.961865</td>\n",
       "      <td>1.935952</td>\n",
       "    </tr>\n",
       "    <tr>\n",
       "      <th>73</th>\n",
       "      <td>73</td>\n",
       "      <td>2.946874</td>\n",
       "      <td>0.866065</td>\n",
       "    </tr>\n",
       "    <tr>\n",
       "      <th>74</th>\n",
       "      <td>74</td>\n",
       "      <td>2.956868</td>\n",
       "      <td>1.730204</td>\n",
       "    </tr>\n",
       "  </tbody>\n",
       "</table>\n",
       "<p>75 rows × 3 columns</p>\n",
       "</div>"
      ],
      "text/plain": [
       "    id  sepal width (cm)  petal width (cm)\n",
       "0    0          2.950622          0.331122\n",
       "1    1          2.954369          0.248823\n",
       "2    2          2.949372          0.248823\n",
       "3    3          2.946874          0.413421\n",
       "4    4          2.958117          1.606756\n",
       "..  ..               ...               ...\n",
       "70  70          2.955619          1.277560\n",
       "71  71          2.938129          0.166524\n",
       "72  72          2.961865          1.935952\n",
       "73  73          2.946874          0.866065\n",
       "74  74          2.956868          1.730204\n",
       "\n",
       "[75 rows x 3 columns]"
      ]
     },
     "execution_count": 18,
     "metadata": {},
     "output_type": "execute_result"
    }
   ],
   "source": [
    "submission"
   ]
  },
  {
   "cell_type": "code",
   "execution_count": 19,
   "metadata": {},
   "outputs": [],
   "source": [
    "result_dir = '../result/'\n",
    "submission.to_csv(result_dir+\"submission.csv\", index=False)"
   ]
  }
 ],
 "metadata": {
  "interpreter": {
   "hash": "000799cfcbacafc98fa43e1883b875f41324b06f15220d11d557572fb901e623"
  },
  "kernelspec": {
   "display_name": "Python 3.7.6 64-bit ('pytorch': conda)",
   "name": "python3"
  },
  "language_info": {
   "codemirror_mode": {
    "name": "ipython",
    "version": 3
   },
   "file_extension": ".py",
   "mimetype": "text/x-python",
   "name": "python",
   "nbconvert_exporter": "python",
   "pygments_lexer": "ipython3",
   "version": "3.7.6"
  },
  "orig_nbformat": 4
 },
 "nbformat": 4,
 "nbformat_minor": 2
}
